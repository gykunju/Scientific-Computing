{
 "cells": [
  {
   "cell_type": "code",
   "execution_count": null,
   "id": "initial_id",
   "metadata": {
    "collapsed": true
   },
   "outputs": [],
   "source": []
  },
  {
   "cell_type": "markdown",
   "id": "5c29968d6f9a685c",
   "metadata": {},
   "source": [
    "Introduction to Symbolic Computing \n",
    "\n",
    "- Symbolic computation is a powerful tool for mathematical analysis and optimization.\n",
    "- It allows you to work with symbolic expressions and variables, rather than numerical values.\n",
    "- Symbolic expressions can be manipulated and simplified using various mathematical operations.\n",
    "- Symbolic computation is useful for symbolic integration, symbolic differentiation, and symbolic optimization.\n",
    "- Symbolic computation is often used in scientific computing and engineering applications.\n",
    "- Symbolic computation is a valuable tool for mathematical analysis and optimization in scientific computing and engineering applications.\n",
    "What is it?\n",
    "A type of mathematical computation where expressions are manipulated symbolically rather than numerically.\n",
    "\n",
    "Expression $x^2 + 3x - 5 $\n",
    "\n",
    "\n",
    "we store this as x we have it as  $x^2 + 3x - 5 $\n",
    "\n",
    "\n",
    "in a numerical manner - x= 2\n",
    "\n",
    "\n",
    "2^2 + 3*2 - 5 = 5 \n",
    "\n",
    "If numericaly evaluated then => $x^2 + 3x - 5 $\n",
    "\n",
    "5 \n",
    "\n",
    "Why use it?\n",
    "\n",
    "- Exact Computation - algebraic expression - not numerical computation\n",
    "- Manipulation of equations - allows to solve differential equations and integration symbolically\n",
    "- Scientific research - used physics, engineering, biology, chemistry, etc.\n",
    "\n",
    "\n",
    "\n",
    " Tools used \n",
    " \n",
    "- SymPy - Python library for symbolic mathematics\n",
    "- SageMath - Python library for symbolic mathematics\n",
    "- SymEngine - Python library for symbolic mathematics\n",
    "- SymPy - Python library for symbolic mathematics\n",
    "- Maple - Mathematical software\n",
    "- mathematica - Mathematical software\n",
    "Numerical computing - Numpy, Scipy, Matlab etc. - faster, efficient for large scale computations\n",
    "\n",
    "\n",
    "Cons - Symbolic computation is more complex and requires more memory and processing power to perform complex operations. - symbolic computation is less efficient than numerical computation for simple operations.\n",
    "\n",
    "Numerical computation - rounding off errors \n",
    "\n",
    "$d/dx(x^2 + 3x - 5)$\n",
    "\n",
    "\n",
    "\n",
    "\n",
    "- $2x + 3$\n",
    "\n",
    "\n"
   ]
  },
  {
   "cell_type": "code",
   "execution_count": 1,
   "id": "8fb42306fbc57fae",
   "metadata": {
    "ExecuteTime": {
     "end_time": "2025-02-28T10:18:23.070499Z",
     "start_time": "2025-02-28T10:18:23.068949Z"
    }
   },
   "outputs": [],
   "source": [
    "import numpy as np"
   ]
  },
  {
   "cell_type": "code",
   "execution_count": 3,
   "id": "4f875c4032d6057",
   "metadata": {
    "ExecuteTime": {
     "end_time": "2025-02-28T10:18:48.022621Z",
     "start_time": "2025-02-28T10:18:48.016405Z"
    }
   },
   "outputs": [
    {
     "data": {
      "text/plain": [
       "np.float64(0.8349269275595438)"
      ]
     },
     "execution_count": 3,
     "metadata": {},
     "output_type": "execute_result"
    }
   ],
   "source": [
    "np.sin(0.988)"
   ]
  },
  {
   "cell_type": "code",
   "execution_count": null,
   "id": "4b6549c340cd8fbc",
   "metadata": {},
   "outputs": [],
   "source": []
  },
  {
   "cell_type": "markdown",
   "id": "dc649b335ebe7cad",
   "metadata": {},
   "source": [
    "Symbolic Algebra \n",
    "\n",
    "\n",
    "expanding, factoring and simplifying expressions\n",
    "\n",
    "\n",
    "$(x+y)^2 = x^2 + 2xy + y^2$\n",
    "\n",
    "\n",
    "- $ \\frac{d}{dx}(x^2 + 3x - 5)$"
   ]
  },
  {
   "cell_type": "code",
   "execution_count": 7,
   "id": "a96dc30bd5580579",
   "metadata": {
    "ExecuteTime": {
     "end_time": "2025-02-28T10:35:43.554740Z",
     "start_time": "2025-02-28T10:35:43.548138Z"
    }
   },
   "outputs": [],
   "source": [
    "from sympy import symbols, expand, factor, simplify, diff, integrate, solve,Matrix\n"
   ]
  },
  {
   "cell_type": "code",
   "execution_count": 8,
   "id": "eb8a585a969401e8",
   "metadata": {
    "ExecuteTime": {
     "end_time": "2025-02-28T10:37:06.912737Z",
     "start_time": "2025-02-28T10:37:06.867901Z"
    }
   },
   "outputs": [],
   "source": [
    "x,y = symbols('x y')"
   ]
  },
  {
   "cell_type": "code",
   "execution_count": 10,
   "id": "a7b71e35c05fe0a6",
   "metadata": {
    "ExecuteTime": {
     "end_time": "2025-02-28T10:37:25.215806Z",
     "start_time": "2025-02-28T10:37:25.198114Z"
    }
   },
   "outputs": [
    {
     "data": {
      "text/plain": [
       "sympy.core.symbol.Symbol"
      ]
     },
     "execution_count": 10,
     "metadata": {},
     "output_type": "execute_result"
    }
   ],
   "source": [
    "type(x)"
   ]
  },
  {
   "cell_type": "code",
   "execution_count": 11,
   "id": "4dcbf00357fde2a4",
   "metadata": {
    "ExecuteTime": {
     "end_time": "2025-02-28T10:37:44.950344Z",
     "start_time": "2025-02-28T10:37:44.941415Z"
    }
   },
   "outputs": [],
   "source": [
    "# expanding an algebraic expression"
   ]
  },
  {
   "cell_type": "code",
   "execution_count": 13,
   "id": "a28c8756984376f4",
   "metadata": {
    "ExecuteTime": {
     "end_time": "2025-02-28T10:38:30.106799Z",
     "start_time": "2025-02-28T10:38:30.101404Z"
    }
   },
   "outputs": [],
   "source": [
    "expre=(x + y )**2"
   ]
  },
  {
   "cell_type": "markdown",
   "id": "c46decac8efa00ac",
   "metadata": {},
   "source": [
    "expre\n"
   ]
  },
  {
   "cell_type": "markdown",
   "id": "b307bf976eeecafa",
   "metadata": {},
   "source": [
    "expand_expre=expand(expre) "
   ]
  },
  {
   "cell_type": "code",
   "execution_count": 17,
   "id": "60bee0c6f9660d9a",
   "metadata": {
    "ExecuteTime": {
     "end_time": "2025-02-28T10:39:38.979741Z",
     "start_time": "2025-02-28T10:39:38.972719Z"
    }
   },
   "outputs": [
    {
     "data": {
      "text/latex": [
       "$\\displaystyle x^{2} + 2 x y + y^{2}$"
      ],
      "text/plain": [
       "x**2 + 2*x*y + y**2"
      ]
     },
     "execution_count": 17,
     "metadata": {},
     "output_type": "execute_result"
    }
   ],
   "source": [
    "expand_expre"
   ]
  },
  {
   "cell_type": "markdown",
   "id": "b1d1db59014cb01",
   "metadata": {},
   "source": [
    "x $d/dx(3x^2 + 2xy + y^2)$ - $6x + 2y$"
   ]
  },
  {
   "cell_type": "code",
   "execution_count": 16,
   "id": "35428d1d373cab31",
   "metadata": {
    "ExecuteTime": {
     "end_time": "2025-02-28T10:39:34.831480Z",
     "start_time": "2025-02-28T10:39:34.823196Z"
    }
   },
   "outputs": [],
   "source": [
    "expand_expre=expand(expre)"
   ]
  },
  {
   "cell_type": "code",
   "execution_count": 18,
   "id": "6db917b804e8fd9d",
   "metadata": {
    "ExecuteTime": {
     "end_time": "2025-02-28T10:40:48.150171Z",
     "start_time": "2025-02-28T10:40:48.120073Z"
    }
   },
   "outputs": [
    {
     "name": "stdout",
     "output_type": "stream",
     "text": [
      "expanded expression x**2 + 2*x*y + y**2\n"
     ]
    }
   ],
   "source": [
    "print(\"expanded expression\",expand_expre)"
   ]
  },
  {
   "cell_type": "code",
   "execution_count": null,
   "id": "ca3a635abedf147",
   "metadata": {},
   "outputs": [],
   "source": [
    "# factoring an algebraic expression"
   ]
  },
  {
   "cell_type": "code",
   "execution_count": 19,
   "id": "25582ea6ba5cada6",
   "metadata": {
    "ExecuteTime": {
     "end_time": "2025-02-28T10:41:47.881933Z",
     "start_time": "2025-02-28T10:41:47.862876Z"
    }
   },
   "outputs": [],
   "source": [
    "factored_expre=factor(x**2 - 4)"
   ]
  },
  {
   "cell_type": "code",
   "execution_count": 20,
   "id": "28b0dc57acacc06",
   "metadata": {
    "ExecuteTime": {
     "end_time": "2025-02-28T10:41:51.403341Z",
     "start_time": "2025-02-28T10:41:51.377546Z"
    }
   },
   "outputs": [
    {
     "data": {
      "text/latex": [
       "$\\displaystyle \\left(x - 2\\right) \\left(x + 2\\right)$"
      ],
      "text/plain": [
       "(x - 2)*(x + 2)"
      ]
     },
     "execution_count": 20,
     "metadata": {},
     "output_type": "execute_result"
    }
   ],
   "source": [
    "factored_expre"
   ]
  },
  {
   "cell_type": "markdown",
   "id": "878e16147e6c3c87",
   "metadata": {},
   "source": [
    "diff_expre=diff(x**2 + 3x - 5)"
   ]
  },
  {
   "cell_type": "code",
   "execution_count": 22,
   "id": "aee489998e4c54fd",
   "metadata": {
    "ExecuteTime": {
     "end_time": "2025-02-28T10:42:44.563339Z",
     "start_time": "2025-02-28T10:42:44.558280Z"
    }
   },
   "outputs": [],
   "source": []
  },
  {
   "cell_type": "code",
   "execution_count": 24,
   "id": "3b0b87837c44ee87",
   "metadata": {
    "ExecuteTime": {
     "end_time": "2025-02-28T10:43:34.063990Z",
     "start_time": "2025-02-28T10:43:34.000613Z"
    }
   },
   "outputs": [],
   "source": [
    "diff_expre=diff(x**2 + 3*x - 5, x)\n"
   ]
  },
  {
   "cell_type": "code",
   "execution_count": 25,
   "id": "7e9c7a206468771",
   "metadata": {
    "ExecuteTime": {
     "end_time": "2025-02-28T10:43:42.136870Z",
     "start_time": "2025-02-28T10:43:42.127200Z"
    }
   },
   "outputs": [
    {
     "data": {
      "text/latex": [
       "$\\displaystyle 2 x + 3$"
      ],
      "text/plain": [
       "2*x + 3"
      ]
     },
     "execution_count": 25,
     "metadata": {},
     "output_type": "execute_result"
    }
   ],
   "source": [
    "diff_expre"
   ]
  },
  {
   "cell_type": "code",
   "execution_count": 26,
   "id": "1d3c7ca9b6aeda8b",
   "metadata": {
    "ExecuteTime": {
     "end_time": "2025-02-28T10:44:08.797718Z",
     "start_time": "2025-02-28T10:44:08.732490Z"
    }
   },
   "outputs": [],
   "source": [
    "integrate_expre=integrate(x**2 + 3*x - 5, x)"
   ]
  },
  {
   "cell_type": "code",
   "execution_count": 27,
   "id": "643a5a64ea7510a7",
   "metadata": {
    "ExecuteTime": {
     "end_time": "2025-02-28T10:44:10.175402Z",
     "start_time": "2025-02-28T10:44:10.169960Z"
    }
   },
   "outputs": [
    {
     "data": {
      "text/latex": [
       "$\\displaystyle \\frac{x^{3}}{3} + \\frac{3 x^{2}}{2} - 5 x$"
      ],
      "text/plain": [
       "x**3/3 + 3*x**2/2 - 5*x"
      ]
     },
     "execution_count": 27,
     "metadata": {},
     "output_type": "execute_result"
    }
   ],
   "source": [
    "integrate_expre"
   ]
  },
  {
   "cell_type": "code",
   "execution_count": 34,
   "id": "9b5803fcee7da743",
   "metadata": {
    "ExecuteTime": {
     "end_time": "2025-02-28T10:47:24.153202Z",
     "start_time": "2025-02-28T10:47:23.964222Z"
    }
   },
   "outputs": [],
   "source": [
    "solve_expre=solve(x**2 + 3*x - 5, x)"
   ]
  },
  {
   "cell_type": "code",
   "execution_count": 35,
   "id": "ff3e0aee8402a57a",
   "metadata": {
    "ExecuteTime": {
     "end_time": "2025-02-28T10:47:35.215894Z",
     "start_time": "2025-02-28T10:47:35.203559Z"
    }
   },
   "outputs": [
    {
     "data": {
      "text/plain": [
       "[-3/2 + sqrt(29)/2, -sqrt(29)/2 - 3/2]"
      ]
     },
     "execution_count": 35,
     "metadata": {},
     "output_type": "execute_result"
    }
   ],
   "source": [
    "solve_expre"
   ]
  },
  {
   "cell_type": "code",
   "execution_count": 28,
   "id": "44aef162922d7a52",
   "metadata": {
    "ExecuteTime": {
     "end_time": "2025-02-28T10:44:57.681481Z",
     "start_time": "2025-02-28T10:44:57.639863Z"
    }
   },
   "outputs": [
    {
     "data": {
      "text/plain": [
       "[-2, 2]"
      ]
     },
     "execution_count": 28,
     "metadata": {},
     "output_type": "execute_result"
    }
   ],
   "source": [
    "solve(x**2 - 4, x)"
   ]
  },
  {
   "cell_type": "code",
   "execution_count": 30,
   "id": "f83faaadb4aa044c",
   "metadata": {
    "ExecuteTime": {
     "end_time": "2025-02-28T10:45:40.588343Z",
     "start_time": "2025-02-28T10:45:40.579034Z"
    }
   },
   "outputs": [],
   "source": [
    "A= Matrix([[1,2],[3,4]])"
   ]
  },
  {
   "cell_type": "code",
   "execution_count": 31,
   "id": "c961737e387a758f",
   "metadata": {
    "ExecuteTime": {
     "end_time": "2025-02-28T10:45:41.147662Z",
     "start_time": "2025-02-28T10:45:41.142381Z"
    }
   },
   "outputs": [
    {
     "data": {
      "text/latex": [
       "$\\displaystyle \\left[\\begin{matrix}1 & 2\\\\3 & 4\\end{matrix}\\right]$"
      ],
      "text/plain": [
       "Matrix([\n",
       "[1, 2],\n",
       "[3, 4]])"
      ]
     },
     "execution_count": 31,
     "metadata": {},
     "output_type": "execute_result"
    }
   ],
   "source": [
    "A"
   ]
  },
  {
   "cell_type": "code",
   "execution_count": 33,
   "id": "136d744ce2fc7b13",
   "metadata": {
    "ExecuteTime": {
     "end_time": "2025-02-28T10:46:08.900121Z",
     "start_time": "2025-02-28T10:46:08.893647Z"
    }
   },
   "outputs": [
    {
     "data": {
      "text/latex": [
       "$\\displaystyle -2$"
      ],
      "text/plain": [
       "-2"
      ]
     },
     "execution_count": 33,
     "metadata": {},
     "output_type": "execute_result"
    }
   ],
   "source": [
    "A.det()"
   ]
  },
  {
   "cell_type": "code",
   "execution_count": 8,
   "id": "5b1bf75e6a8b655c",
   "metadata": {},
   "outputs": [],
   "source": [
    "from sympy import Matrix, det, solve, diff, integrate, symbols, expand, factor, simplify, Mod"
   ]
  },
  {
   "cell_type": "markdown",
   "id": "4fb9b41e",
   "metadata": {},
   "source": [
    "A machine learning model at JKUAT is trained using the loss function:\n",
    "\n",
    "L(x) = 3x^2 + 2x - 5\n",
    "\n",
    "    ] Task:\n",
    "\n",
    "        Compute the symbolic derivative of L(x)L(x) to find the gradient.\n",
    "        Solve for xx when the gradient is zero (optimal solution).\n",
    "        Use second derivatives to check if it is a minimum or maximum."
   ]
  },
  {
   "cell_type": "code",
   "execution_count": 3,
   "id": "01dcea77",
   "metadata": {},
   "outputs": [],
   "source": [
    "x = symbols('x')"
   ]
  },
  {
   "cell_type": "code",
   "execution_count": 4,
   "id": "926d97ff",
   "metadata": {},
   "outputs": [
    {
     "name": "stdout",
     "output_type": "stream",
     "text": [
      "derivative: 6*x - 2\n",
      "solution: [1/3 - sqrt(2)*I/3, 1/3 + sqrt(2)*I/3]\n",
      "Minimum at x = 1/3 - sqrt(2)*I/3\n"
     ]
    }
   ],
   "source": [
    "L = 3*x**2 - 2*x + 1\n",
    "derivative = diff(L)\n",
    "print('derivative:', derivative)\n",
    "\n",
    "solution = solve(L, x)\n",
    "print('solution:', solution)\n",
    "\n",
    "# check if maximum or minimum\n",
    "second_derivative = diff(derivative)\n",
    "if second_derivative.subs(x, solution[0]) > 0:\n",
    "    print(\"Minimum at x =\", solution[0])\n",
    "else:\n",
    "    print(\"Maximum at x =\", solution[0])"
   ]
  },
  {
   "cell_type": "markdown",
   "id": "0b3022d6",
   "metadata": {},
   "source": [
    "In AI applications, dimensionality reduction is done using eigenvalues of matrices.\n",
    "    Given a feature matrix:\n",
    "\n",
    "A = \\begin{bmatrix} 2 & 1 \\ 1 & 3 \\end{bmatrix}\n",
    "\n",
    "    ] Task:\n",
    "\n",
    "        Compute the symbolic determinant of AA.\n",
    "        Find the eigenvalues of AA using symbolic computation.\n",
    "        Verify that the eigenvalues satisfy the characteristic equation."
   ]
  },
  {
   "cell_type": "code",
   "execution_count": null,
   "id": "6bf63c8b",
   "metadata": {},
   "outputs": [
    {
     "name": "stdout",
     "output_type": "stream",
     "text": [
      "Determinant of A: 5\n",
      "Eigenvalues of A: {5/2 - sqrt(5)/2: 1, sqrt(5)/2 + 5/2: 1}\n",
      "Characteristic polynomial of A: PurePoly(lambda**2 - 5*lambda + 5, lambda, domain='ZZ')\n",
      "Verification for eigenvalue 5/2 - sqrt(5)/2: 0\n",
      "Verification for eigenvalue sqrt(5)/2 + 5/2: 0\n"
     ]
    }
   ],
   "source": [
    "# Define the matrix A\n",
    "A = Matrix([[2, 1], [1, 3]])\n",
    "\n",
    "# Compute the determinant of A\n",
    "det_A = A.det()\n",
    "print(\"Determinant of A:\", det_A)\n",
    "\n",
    "# Find the eigenvalues of A\n",
    "eigenvalues = A.eigenvals()\n",
    "print(\"Eigenvalues of A:\", eigenvalues)\n",
    "\n",
    "# Verify that the eigenvalues satisfy the characteristic equation\n",
    "char_poly = A.charpoly()\n",
    "print(\"Characteristic polynomial of A:\", char_poly)\n",
    "\n",
    "# Substitute eigenvalues into the characteristic polynomial to verify\n",
    "for eigenvalue in eigenvalues:\n",
    "    verification = char_poly.eval(eigenvalue)\n",
    "    print(f\"Verification for eigenvalue {eigenvalue}: {verification}\")"
   ]
  },
  {
   "cell_type": "markdown",
   "id": "12dedff0",
   "metadata": {},
   "source": [
    "In a control system, the Laplace Transform of the system equation is:\n",
    "\n",
    "H(s) = \\frac{1}{s^2 + 3s + 2}\n",
    "\n",
    "    ] Task:\n",
    "\n",
    "        Factor the denominator symbolically.\n",
    "        Compute the inverse Laplace Transform to find h(t)h(t).\n",
    "        Find the poles of the system."
   ]
  },
  {
   "cell_type": "code",
   "execution_count": null,
   "id": "fbfcc719",
   "metadata": {},
   "outputs": [
    {
     "name": "stdout",
     "output_type": "stream",
     "text": [
      "Factored denominator: (s + 1)*(s + 2)\n"
     ]
    }
   ],
   "source": [
    "s = symbols('s')\n",
    "H = 1/(s**2 + 2*s + 1)\n",
    "\n",
    "# factor the denominator symbolically\n",
    "den_factor = factor(s**2 + 3*s + 2)\n",
    "print(\"Factored denominator:\", den_factor)\n",
    "\n",
    "# compute the Inverse lapaclace transform to find h(t)\n",
    "h = inverse_laplace_transform(H, s, t)\n"
   ]
  },
  {
   "cell_type": "markdown",
   "id": "34df85ad",
   "metadata": {},
   "source": [
    "A startup incubator at JKUAT is optimizing the cost function:\n",
    "\n",
    "C(x) = 5x^3 - 10x^2 + 4x + 3\n",
    "\n",
    "    ] where xx is the number of AI startups funded.\n",
    "\n",
    "    Task:\n",
    "\n",
    "        Find the symbolic derivative of C(x)C(x).\n",
    "        Solve for xx when the cost is minimized.\n",
    "        Interpret the result for decision-making."
   ]
  },
  {
   "cell_type": "code",
   "execution_count": null,
   "id": "0048ff13",
   "metadata": {},
   "outputs": [
    {
     "name": "stdout",
     "output_type": "stream",
     "text": [
      "symbolic_derivative: 15*x**2 - 20*x + 4\n",
      "solution: [2/3 - 2*sqrt(10)/15, 2*sqrt(10)/15 + 2/3]\n"
     ]
    }
   ],
   "source": [
    "C = 5*x**3 - 10*x**2  + 4*x + 3\n",
    "\n",
    "symbolic_derivative = diff(C)\n",
    "print('symbolic_derivative:', symbolic_derivative)\n",
    "\n",
    "# Solve for xx when the cost is minimized.\n",
    "solution = solve(symbolic_derivative, x)\n",
    "print('solution:', solution)\n"
   ]
  },
  {
   "cell_type": "markdown",
   "id": "c2da4d55",
   "metadata": {},
   "source": [
    "JKUAT security researchers are designing a public key encryption system using prime numbers.\n",
    "The encryption follows the equation:\n",
    "\n",
    "C = P^e \\ mod N\n",
    "\n",
    "where C is the ciphertext, P is the plaintext, e is the encryption key, and N is the public modulus\n",
    "\n",
    "Task: \n",
    "- Define a symbolic function for the encryption process\n",
    "- Compute the modular inverse of P to decrypt the message\n",
    "- if P = 7, e = 3, and N = 33, find C."
   ]
  },
  {
   "cell_type": "code",
   "execution_count": null,
   "id": "470462ed",
   "metadata": {},
   "outputs": [],
   "source": []
  }
 ],
 "metadata": {
  "kernelspec": {
   "display_name": "env",
   "language": "python",
   "name": "python3"
  },
  "language_info": {
   "codemirror_mode": {
    "name": "ipython",
    "version": 3
   },
   "file_extension": ".py",
   "mimetype": "text/x-python",
   "name": "python",
   "nbconvert_exporter": "python",
   "pygments_lexer": "ipython3",
   "version": "3.11.4"
  }
 },
 "nbformat": 4,
 "nbformat_minor": 5
}
