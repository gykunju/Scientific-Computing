{
 "cells": [
  {
   "cell_type": "code",
   "execution_count": 24,
   "metadata": {},
   "outputs": [],
   "source": [
    "from sympy import Matrix, det, solve, diff, integrate, symbols, expand, factor, simplify, Mod, inverse_laplace_transform, mod_inverse"
   ]
  },
  {
   "cell_type": "markdown",
   "metadata": {},
   "source": [
    "A machine learning model at JKUAT is trained using the loss function:\n",
    "\n",
    "L(x) = 3x^2 + 2x - 5\n",
    "\n",
    "Task:\n",
    "\n",
    "        Compute the symbolic derivative of L(x)L(x) to find the gradient.\n",
    "        Solve for xx when the gradient is zero (optimal solution).\n",
    "        Use second derivatives to check if it is a minimum or maximum."
   ]
  },
  {
   "cell_type": "code",
   "execution_count": 2,
   "metadata": {},
   "outputs": [],
   "source": [
    "x = symbols('x')"
   ]
  },
  {
   "cell_type": "code",
   "execution_count": 3,
   "metadata": {},
   "outputs": [
    {
     "name": "stdout",
     "output_type": "stream",
     "text": [
      "derivative: 6*x - 2\n",
      "solution: [1/3 - sqrt(2)*I/3, 1/3 + sqrt(2)*I/3]\n",
      "Minimum at x = 1/3 - sqrt(2)*I/3\n"
     ]
    }
   ],
   "source": [
    "L = 3*x**2 - 2*x + 1\n",
    "derivative = diff(L)\n",
    "print('derivative:', derivative)\n",
    "\n",
    "solution = solve(L, x)\n",
    "print('solution:', solution)\n",
    "\n",
    "# check if maximum or minimum\n",
    "second_derivative = diff(derivative)\n",
    "if second_derivative.subs(x, solution[0]) > 0:\n",
    "    print(\"Minimum at x =\", solution[0])\n",
    "else:\n",
    "    print(\"Maximum at x =\", solution[0])"
   ]
  },
  {
   "cell_type": "markdown",
   "metadata": {},
   "source": [
    "In AI applications, dimensionality reduction is done using eigenvalues of matrices.\n",
    "    Given a feature matrix:\n",
    "\n",
    "A = \\begin{bmatrix} 2 & 1 \\ 1 & 3 \\end{bmatrix}\n",
    "\n",
    "Task:\n",
    "\n",
    "        Compute the symbolic determinant of AA.\n",
    "        Find the eigenvalues of AA using symbolic computation.\n",
    "        Verify that the eigenvalues satisfy the characteristic equation."
   ]
  },
  {
   "cell_type": "code",
   "execution_count": 4,
   "metadata": {},
   "outputs": [
    {
     "name": "stdout",
     "output_type": "stream",
     "text": [
      "Determinant of A: 5\n",
      "Eigenvalues of A: {5/2 - sqrt(5)/2: 1, sqrt(5)/2 + 5/2: 1}\n",
      "Characteristic polynomial of A: PurePoly(lambda**2 - 5*lambda + 5, lambda, domain='ZZ')\n",
      "Verification for eigenvalue 5/2 - sqrt(5)/2: 0\n",
      "Verification for eigenvalue sqrt(5)/2 + 5/2: 0\n"
     ]
    }
   ],
   "source": [
    "# Define the matrix A\n",
    "A = Matrix([[2, 1], [1, 3]])\n",
    "\n",
    "# Compute the determinant of A\n",
    "det_A = A.det()\n",
    "print(\"Determinant of A:\", det_A)\n",
    "\n",
    "# Find the eigenvalues of A\n",
    "eigenvalues = A.eigenvals()\n",
    "print(\"Eigenvalues of A:\", eigenvalues)\n",
    "\n",
    "# Verify that the eigenvalues satisfy the characteristic equation\n",
    "char_poly = A.charpoly()\n",
    "print(\"Characteristic polynomial of A:\", char_poly)\n",
    "\n",
    "# Substitute eigenvalues into the characteristic polynomial to verify\n",
    "for eigenvalue in eigenvalues:\n",
    "    verification = char_poly.eval(eigenvalue)\n",
    "    print(f\"Verification for eigenvalue {eigenvalue}: {verification}\")"
   ]
  },
  {
   "cell_type": "markdown",
   "metadata": {},
   "source": [
    "In a control system, the Laplace Transform of the system equation is:\n",
    "\n",
    "H(s) = \\frac{1}{s^2 + 3s + 2}\n",
    "\n",
    "Task:\n",
    "\n",
    "        Factor the denominator symbolically.\n",
    "        Compute the inverse Laplace Transform to find h(t)h(t).\n",
    "        Find the poles of the system."
   ]
  },
  {
   "cell_type": "code",
   "execution_count": 8,
   "metadata": {},
   "outputs": [
    {
     "name": "stdout",
     "output_type": "stream",
     "text": [
      "Factored denominator: (s + 1)*(s + 2)\n",
      "Inverse Laplace transform of H: t*exp(-t)*Heaviside(t)\n"
     ]
    }
   ],
   "source": [
    "s = symbols('s')\n",
    "H = 1/(s**2 + 2*s + 1)\n",
    "\n",
    "# factor the denominator symbolically\n",
    "den_factor = factor(s**2 + 3*s + 2)\n",
    "print(\"Factored denominator:\", den_factor)\n",
    "\n",
    "# Inverse lapaclace transform to find h(t)\n",
    "t = symbols('t')\n",
    "h = inverse_laplace_transform(H, s, t)\n",
    "print(\"Inverse Laplace transform of H:\", h)\n"
   ]
  },
  {
   "cell_type": "markdown",
   "metadata": {},
   "source": [
    "A startup incubator at JKUAT is optimizing the cost function:\n",
    "\n",
    "C(x) = 5x^3 - 10x^2 + 4x + 3\n",
    "\n",
    "    ] where xx is the number of AI startups funded.\n",
    "\n",
    "    Task:\n",
    "\n",
    "        Find the symbolic derivative of C(x)C(x).\n",
    "        Solve for xx when the cost is minimized.\n",
    "        Interpret the result for decision-making."
   ]
  },
  {
   "cell_type": "code",
   "execution_count": null,
   "metadata": {},
   "outputs": [
    {
     "name": "stdout",
     "output_type": "stream",
     "text": [
      "symbolic_derivative: 15*x**2 - 20*x + 4\n",
      "solution: [2/3 - 2*sqrt(10)/15, 2*sqrt(10)/15 + 2/3]\n"
     ]
    }
   ],
   "source": [
    "C = 5*x**3 - 10*x**2  + 4*x + 3\n",
    "\n",
    "symbolic_derivative = diff(C)\n",
    "print('symbolic_derivative:', symbolic_derivative)\n",
    "\n",
    "# Solve for xx when the cost is minimized.\n",
    "solution = solve(symbolic_derivative, x)\n",
    "print('solution:', solution)\n",
    "\n",
    "# Interpret the result for decision making.\n",
    "if symbolic_derivative.subs(x, solution[0]) > 0:\n",
    "    print(\"Cost is minimized at x =\", solution[0])\n",
    "else:\n",
    "    print(\"Cost is maximized at x =\", solution[0])\n"
   ]
  },
  {
   "cell_type": "markdown",
   "metadata": {},
   "source": [
    "JKUAT security researchers are designing a public key encryption system using prime numbers.\n",
    "The encryption follows the equation:\n",
    "\n",
    "C = P^e \\ mod N\n",
    "\n",
    "where C is the ciphertext, P is the plaintext, e is the encryption key, and N is the public modulus\n",
    "\n",
    "Task: \n",
    "- Define a symbolic function for the encryption process\n",
    "- Compute the modular inverse of P to decrypt the message\n",
    "- if P = 7, e = 3, and N = 33, find C."
   ]
  },
  {
   "cell_type": "code",
   "execution_count": null,
   "metadata": {},
   "outputs": [
    {
     "name": "stdout",
     "output_type": "stream",
     "text": [
      "Symbolic encryption function: 13\n",
      "Ciphertext C: 13\n",
      "Decryption key (d): 7\n",
      "Decrypted plaintext: 7\n"
     ]
    }
   ],
   "source": [
    "P, e, N = symbols('P e N')\n",
    "\n",
    "# Define the symbolic function for the encryption process\n",
    "# C = Mod(P**e, N)\n",
    "print(\"Symbolic encryption function:\", C)\n",
    "\n",
    "# Given values\n",
    "P_val = 7\n",
    "e_val = 3\n",
    "N_val = 33\n",
    "\n",
    "\n",
    "C = pow(P_val, e_val, N_val)\n",
    "print(\"Ciphertext C:\", C)\n",
    "\n",
    "# Compute φ(N)\n",
    "# For a semiprime N = p * q, φ(N) = (p-1) * (q-1)\n",
    "# Here, N = 3 * 11, so φ(N) = (3-1) * (11-1) = 2 * 10 = 20\n",
    "phi_N = 20\n",
    "\n",
    "# Compute the modular inverse of P to decrypt the message\n",
    "d = mod_inverse(e_val, phi_N)\n",
    "print(f\"Decryption key (d): {d}\")\n",
    "\n",
    "# Decrypt the message\n",
    "decrypted = pow(C, d, N_val)\n",
    "print(f\"Decrypted plaintext: {decrypted}\")\n"
   ]
  }
 ],
 "metadata": {
  "kernelspec": {
   "display_name": "env",
   "language": "python",
   "name": "python3"
  },
  "language_info": {
   "codemirror_mode": {
    "name": "ipython",
    "version": 3
   },
   "file_extension": ".py",
   "mimetype": "text/x-python",
   "name": "python",
   "nbconvert_exporter": "python",
   "pygments_lexer": "ipython3",
   "version": "3.11.4"
  }
 },
 "nbformat": 4,
 "nbformat_minor": 2
}
