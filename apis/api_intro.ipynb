{
 "cells": [
  {
   "cell_type": "code",
   "execution_count": 1,
   "metadata": {},
   "outputs": [],
   "source": [
    "import requests\n",
    "import json"
   ]
  },
  {
   "cell_type": "code",
   "execution_count": null,
   "metadata": {},
   "outputs": [
    {
     "name": "stdout",
     "output_type": "stream",
     "text": [
      "IBM: 243.0000\n"
     ]
    }
   ],
   "source": [
    "## IBM Data\n",
    "def get_stock_data():\n",
    "    url = \"https://www.alphavantage.co/query?function=TIME_SERIES_INTRADAY&symbol=IBM&interval=5min&outputsize=full&apikey=demo\"\n",
    "    \n",
    "    response = requests.get(url)\n",
    "\n",
    "    if response.status_code == 200:\n",
    "        data = response.json()\n",
    "        last_refreshed = data['Meta Data']['3. Last Refreshed']\n",
    "        price = data['Time Series (5min)'][last_refreshed]['1. open']\n",
    "        return price\n",
    "    else:\n",
    "        return None\n",
    "    \n",
    "stock_prices = {}\n",
    "price = get_stock_data()\n",
    "symbol = \"IBM\"\n",
    "if price is not None:\n",
    "    stock_prices[symbol] = price\n",
    "\n",
    "print(f'{symbol}: {price}')\n",
    "\n",
    "\n"
   ]
  },
  {
   "cell_type": "code",
   "execution_count": 7,
   "metadata": {},
   "outputs": [
    {
     "name": "stdout",
     "output_type": "stream",
     "text": [
      "200\n"
     ]
    }
   ],
   "source": [
    "## NEWS DATA\n",
    "\n",
    "API_KEY = \"19e22dbdc1174b5ca0ce8da4696f1efd\"\n",
    "url = f\"https://newsapi.org/v2/top-headlines?country=us&category=business&apiKey={API_KEY}\"\n",
    "response = requests.get(url)\n",
    "print(response.status_code)"
   ]
  },
  {
   "cell_type": "code",
   "execution_count": 9,
   "metadata": {},
   "outputs": [
    {
     "name": "stdout",
     "output_type": "stream",
     "text": [
      "Article 1: \n",
      "{\n",
      "    \"author\": \"Adam Clark, Paulo Trevisani, Dow Jones Newswires, Emese Bartha, Dow Jones Newswires, George Glover, Brian Swint, Renae Dyer, Dow Jones Newswires, Sherry Qin, Dow Jones Newswires\",\n",
      "    \"content\": \"After initially calming markets, the excitement around the Federal Reserve's comments on tariffs and rates seemed to fizzle out as stock futures fell in premarket trading Thursday\\r\\nU.S. stock markets\\u2026 [+1738 chars]\",\n",
      "    \"description\": \"Dow, S&P 500, and Nasdaq Futures are falling in premarket trading Thursday as the stock market digests Fed Chair Jerome Powell's comments on rate cuts and Trump tariffs.\",\n",
      "    \"publishedAt\": \"2025-03-20T12:13:00Z\",\n",
      "    \"source\": {\n",
      "        \"id\": null,\n",
      "        \"name\": \"Barron's\"\n",
      "    },\n",
      "    \"title\": \"Dow Set to Open Down After Fed Tariff Talk - Barron's\",\n",
      "    \"url\": \"https://www.barrons.com/livecoverage/stock-market-today-032025\",\n",
      "    \"urlToImage\": \"https://images.barrons.com/im-783602/social\"\n",
      "}\n",
      "\n",
      "Article 2: \n",
      "{\n",
      "    \"author\": \"Barron's\",\n",
      "    \"content\": null,\n",
      "    \"description\": null,\n",
      "    \"publishedAt\": \"2025-03-20T11:59:00Z\",\n",
      "    \"source\": {\n",
      "        \"id\": null,\n",
      "        \"name\": \"Barron's\"\n",
      "    },\n",
      "    \"title\": \"Tesla Stock Is Falling, but the Trump Bump May Have Worked - Barron's\",\n",
      "    \"url\": \"https://www.barrons.com/articles/tesla-stock-price-trump-musk-77140734\",\n",
      "    \"urlToImage\": null\n",
      "}\n",
      "\n",
      "Article 3: \n",
      "{\n",
      "    \"author\": \"Ben Berkowitz\",\n",
      "    \"content\": \"Tesla shares fell early Thursday after Commerce Secretary Howard Lutnick used a TV appearance to urge Americans to buy stock in Elon Musk's car company. \\r\\nWhy it matters: Cabinet secretaries don't ty\\u2026 [+1858 chars]\",\n",
      "    \"description\": \"His comments are the latest in what has effectively become an administration campaign to defend Musk's company.\",\n",
      "    \"publishedAt\": \"2025-03-20T10:51:48Z\",\n",
      "    \"source\": {\n",
      "        \"id\": \"axios\",\n",
      "        \"name\": \"Axios\"\n",
      "    },\n",
      "    \"title\": \"Tesla shares fall after Lutnick goes on TV and recommends stock - Axios\",\n",
      "    \"url\": \"https://www.axios.com/2025/03/20/tesla-musk-lutnick\",\n",
      "    \"urlToImage\": \"https://images.axios.com/jXdQI8ESgeoxYP8gZcDx7RjjESY=/0x0:4000x2250/1366x768/2025/03/20/1742465158430.jpg\"\n",
      "}\n",
      "\n"
     ]
    }
   ],
   "source": [
    "def fetch_and_print_articles(api_url):\n",
    "    response = requests.get(api_url)\n",
    "    if response.status_code == 200:\n",
    "        articles = response.json().get('articles', [])\n",
    "        for index, article in enumerate(articles[:3], start=1):\n",
    "            print(F'Article {index}: \\n{json.dumps(article, sort_keys=True, indent=4)}\\n')\n",
    "    else:\n",
    "        print(\"Error fetching articles\")\n",
    "\n",
    "API_KEY = \"19e22dbdc1174b5ca0ce8da4696f1efd\"\n",
    "api_endpoint = f\"https://newsapi.org/v2/top-headlines?country=us&category=business&apiKey={API_KEY}\"\n",
    "\n",
    "fetch_and_print_articles(api_endpoint)\n",
    "\n",
    "def jprint(obj):\n",
    "    print(json.dumps(obj, sort_keys=True, indent=4))\n",
    "    \n"
   ]
  },
  {
   "cell_type": "code",
   "execution_count": 10,
   "metadata": {},
   "outputs": [
    {
     "name": "stdout",
     "output_type": "stream",
     "text": [
      "{'status': 'ok', 'totalResults': 33, 'articles': [{'source': {'id': None, 'name': \"Barron's\"}, 'author': 'Adam Clark, Paulo Trevisani, Dow Jones Newswires, Emese Bartha, Dow Jones Newswires, George Glover, Brian Swint, Renae Dyer, Dow Jones Newswires, Sherry Qin, Dow Jones Newswires', 'title': \"Dow Set to Open Down After Fed Tariff Talk - Barron's\", 'description': \"Dow, S&P 500, and Nasdaq Futures are falling in premarket trading Thursday as the stock market digests Fed Chair Jerome Powell's comments on rate cuts and Trump tariffs.\", 'url': 'https://www.barrons.com/livecoverage/stock-market-today-032025', 'urlToImage': 'https://images.barrons.com/im-783602/social', 'publishedAt': '2025-03-20T12:13:00Z', 'content': \"After initially calming markets, the excitement around the Federal Reserve's comments on tariffs and rates seemed to fizzle out as stock futures fell in premarket trading Thursday\\r\\nU.S. stock markets… [+1738 chars]\"}, {'source': {'id': None, 'name': 'Suntimes.com'}, 'author': 'Georgia Nicols', 'title': 'Horoscope for Thursday, March 20, 2025 - Chicago Sun-Times', 'description': None, 'url': 'https://chicago.suntimes.com/horoscopes/2025/03/20/horoscope-for-thursday-march-20-2025', 'urlToImage': 'https://cst.brightspotcdn.com/dims4/default/f854752/2147483647/strip/true/crop/870x497+0+67/resize/1461x834!/quality/90/?url=https%3A%2F%2Fchorus-production-cst-web.s3.us-east-1.amazonaws.com%2Fbrightspot%2F43%2F41%2Fb121486ad03767083639dc51e5a9%2Fgeorgia-mug.jpeg', 'publishedAt': '2025-03-20T11:41:00Z', 'content': 'Moon alert\\r\\nThere are no restrictions to shopping or important decisions today. The moon is in Sagittarius. Today is the spring equinox.\\r\\nAries (March 21-April 19)\\r\\nToday the sun moves into your sign… [+3831 chars]'}, {'source': {'id': 'cnn', 'name': 'CNN'}, 'author': 'Brenda Goodman', 'title': 'Small study hints anti-amyloid therapy may keep Alzheimer’s symptoms at bay in certain patients - CNN', 'description': 'For the first time, scientists say, they have evidence that using a biologic drug to remove sticky beta amyloid plaques from the brains of people destined to develop Alzheimer’s dementia can delay the disease.', 'url': 'https://www.cnn.com/2025/03/19/health/amyloid-lowering-therapy-alzheimers/index.html', 'urlToImage': 'https://media.cnn.com/api/v1/images/stellar/prod/beta-amyloid-tau-brain.jpg?c=16x9&q=w_800,c_fill', 'publishedAt': '2025-03-20T11:28:00Z', 'content': 'For the first time, scientists say, they have evidence that using a biologic drug to remove sticky beta amyloid plaques from the brains of people destined to develop Alzheimers dementia can delay the… [+13317 chars]'}, {'source': {'id': None, 'name': 'PetaPixel'}, 'author': 'Jaron Schneider', 'title': 'The GFX100RF is a Medium Format Fixed-Lens Rangefinder-Style Camera - PetaPixel', 'description': 'The Fujifilm GFX100RF features a 28mm f/4 full-frame equivalent lens in front of a medium format 102-megapixel sensor.', 'url': 'https://petapixel.com/2025/03/20/the-gfx100rf-is-a-medium-format-fixed-lens-rangefinder-style-camera/', 'urlToImage': 'https://petapixel.com/assets/uploads/2025/03/The-GFX100RF-is-a-Medium-Format-Fixed-Lens-Rangefinder-Style-Camera.jpg', 'publishedAt': '2025-03-20T11:00:35Z', 'content': 'Fujifilm announced the GFX100RF, the company’s first fixed-lens mirrorless digital camera in its GFX system which features a 28mm f/4 full-frame equivalent lens in front of a medium format 102-megapi… [+4452 chars]'}, {'source': {'id': None, 'name': 'Sports Illustrated'}, 'author': 'On SI Contributors', 'title': '2025 On SI NFL Mock Draft 2.0: First-Round Predictions for Every Team - Sports Illustrated', 'description': 'The Seahawks and Steelers select what they hope will be their franchise quarterbacks, while the Giants pass on a signal-caller for the best defensive player in this year’s class.', 'url': 'https://www.si.com/nfl/2025-nfl-mock-draft-first-round-predictions-every-team-ward-hunter-carter', 'urlToImage': 'https://images2.minutemediacdn.com/image/upload/c_crop,w_1289,h_725,x_0,y_0/c_fill,w_1440,ar_16:9,f_auto,q_auto,g_auto/images/voltaxMediaLibrary/mmsport/si/01jpqyq7krsbr3c42rfd.png', 'publishedAt': '2025-03-20T11:00:00Z', 'content': 'Daniel Flicks predictions:Mock draft 1.0\\r\\n | Mock draft 2.0\\r\\n | Mock draft 3.0\\r\\n | Mock draft 4.0\\r\\n | Mock draft 5.0\\r\\n | Mock draft 6.0\\r\\n | On SI Mock draft 1.0\\r\\nWere through the NFL scouting combine… [+14559 chars]'}, {'source': {'id': None, 'name': 'BBC News'}, 'author': None, 'title': 'Turkey arrests dozens for online posts after Erdogan rival held - BBC.com', 'description': 'Some 37 people have been arrested for \"provocative\" social media posts, the interior ministry says.', 'url': 'https://www.bbc.com/news/articles/cpv43dd3vlgo', 'urlToImage': 'https://ichef.bbci.co.uk/news/1024/branded_news/1242/live/3f079000-0578-11f0-8380-1b78bad7f910.jpg', 'publishedAt': '2025-03-20T10:50:12Z', 'content': 'Emily Wither\\r\\nToby Luckhurst\\r\\nTens of thousands of protesters filled the streets on Wednesday after the mayor of Istanbul\\'s arrest\\r\\nAuthorities in Turkey have arrested dozens of people for \"provocati… [+3945 chars]'}, {'source': {'id': None, 'name': 'CBS Sports'}, 'author': None, 'title': 'March Madness 2025 bracket: NCAA Tournament picks, predictions by top-tier college basketball model - CBS Sports', 'description': \"SportsLine's model has nailed 24 first-round upsets by double-digit seeds and revealed its optimal NCAA Tournament bracket 2025\", 'url': 'https://www.cbssports.com/general/news/march-madness-2025-bracket-ncaa-tournament-picks-predictions-by-top-tier-college-basketball-model/', 'urlToImage': 'https://sportshub.cbsistatic.com/i/r/2025/03/11/554a0d85-a42f-4b95-b722-47c913ef774e/thumbnail/1200x675/4f7b4e24ee3eed7d98332f294ace29ea/izzomsu.jpg', 'publishedAt': '2025-03-20T10:30:27Z', 'content': \"Millions of fans are filling out their 2025 March Madness bracket picks, but in order to separate yourself from the masses, you'll need to identify which teams have the best chance of pulling off an … [+4514 chars]\"}, {'source': {'id': None, 'name': \"Tom's Guide\"}, 'author': 'Philip Michaels', 'title': \"Google Pixel 9a launch LIVE: Everything you need to know - Tom's Guide\", 'description': \"Google has announced its new budget phone and we've got hands-on impressions\", 'url': 'https://www.tomsguide.com/news/live/google-pixel-9a-launch', 'urlToImage': 'https://cdn.mos.cms.futurecdn.net/N32yUKLnVQ5hpy3HYNtXki-1200-80.jpg', 'publishedAt': '2025-03-20T09:32:35Z', 'content': '2025-03-20T10:55:47.628Z9a is greater than 16e? Sounds like a math problem\\r\\n(Image credit: Future)\\r\\nThe iPhone 16e is perhaps the biggest rival for the Google Pixel 9a to face off against. And fortun… [+20938 chars]'}, {'source': {'id': None, 'name': 'savingcountrymusic.com'}, 'author': 'Trigger', 'title': 'Grand Ole Opry’s 100th Anniversary Special was Worth the 100-Year Wait - - Saving Country Music', 'description': \"We didn't really know what to expect from the Grand Ole Opry's 100th Anniversary celebration on NBC Wednesday night (3-19). We hoped it would be a cavalcade of actual country stars singing actual country music.\", 'url': 'https://savingcountrymusic.com/grand-ole-oprys-100th-anniversary-special-was-worth-the-100-year-wait/', 'urlToImage': 'https://savingcountrymusic.com/wp-content/uploads/2025/03/ashley-mcbryde-terri-clark-opry-100-1200x628.jpg', 'publishedAt': '2025-03-20T08:18:09Z', 'content': 'We didn’t really know what to expect from the Grand Ole Opry’s 100th Anniversary celebration on NBC Wednesday night (3-19). We hoped it would be a cavalcade of actual country stars singing actual cou… [+9213 chars]'}, {'source': {'id': None, 'name': 'Silver Screen and Roll '}, 'author': 'Jacob Rude', 'title': 'Player Grades: Lakers vs. Nuggets - Silver Screen and Roll ', 'description': 'Grading every Lakers player’s performance from the team’s 120-108 win over the Nuggets.', 'url': 'https://www.silverscreenandroll.com/2025/3/20/24390055/player-grades-lakers-nuggets-box-score-stats-austin-reaves-luka-doncic-dalton-knecht', 'urlToImage': 'https://cdn.vox-cdn.com/thumbor/5I__AxHy1H-8f-YvcjB2r4ilj2Y=/0x0:4622x2420/fit-in/1200x630/cdn.vox-cdn.com/uploads/chorus_asset/file/25919558/2205335304.jpg', 'publishedAt': '2025-03-20T07:30:00Z', 'content': 'After a disastrous road trip that featured lots of injuries and losses, the Lakers returned home and got back to winning ways.\\r\\nThe pairing of Luka Doni and Austin Reaves has found their footing toge… [+4653 chars]'}, {'source': {'id': 'associated-press', 'name': 'Associated Press'}, 'author': 'Chris Megerian, Lindsay Whitehurst', 'title': \"Trump's bluntness powered a White House comeback. Now his words are getting him in trouble in court - The Associated Press\", 'description': \"President Donald Trump’s own words keep getting used against him in court while he faces lawsuits against his aggressive agenda. The situation shows how his shoot-from-the-lip style has undermined his administration's legal positions. Nowhere has this been cl…\", 'url': 'https://apnews.com/article/donald-trump-elon-musk-doge-lawsuits-9f6cb9e7f695ee3ad7fa97743a6bf2de', 'urlToImage': 'https://dims.apnews.com/dims4/default/a0f1c12/2147483647/strip/true/crop/3445x1938+0+180/resize/1440x810!/quality/90/?url=https%3A%2F%2Fassets.apnews.com%2F38%2F02%2F6dd2c06b690080b24e1c9a2c99e8%2Fe8af54c1cfe24beb93bf0e30c5a63977', 'publishedAt': '2025-03-20T04:01:00Z', 'content': 'WASHINGTON (AP) Donald Trumps shoot-from-the-lip style kept Americans on the edge of their seats during last years campaign. But now that hes speaking as a president and not as a candidate, his words… [+5635 chars]'}, {'source': {'id': 'al-jazeera-english', 'name': 'Al Jazeera English'}, 'author': 'Al Jazeera', 'title': 'Finland takes top spot, US gets lowest-ever rank in World Happiness Report - Al Jazeera English', 'description': 'The US fell to 24th place amid a rise in social isolation, while Costa Rica and Mexico break into the top 10.', 'url': 'https://www.aljazeera.com/news/2025/3/20/finland-takes-top-spot-us-gets-lowest-ever-rank-in-world-happiness-report', 'urlToImage': 'https://www.aljazeera.com/wp-content/uploads/2025/03/2023-04-04T143113Z_1393241454_RC2P70AZNGGD_RTRMADP_3_UKRAINE-CRISIS-NATO-1-1742440762.jpg?resize=1920%2C1440', 'publishedAt': '2025-03-20T03:45:07Z', 'content': 'The US fell to its lowest-ever ranking in the 2025 edition of the World Happiness Report amid rising social isolation and political polarisation, while Finland and other Nordic countries remained at … [+3758 chars]'}, {'source': {'id': 'the-wall-street-journal', 'name': 'The Wall Street Journal'}, 'author': 'The Wall Street Journal', 'title': 'Fed Projections See an Economy Dramatically Reset by Trump’s Election - The Wall Street Journal', 'description': None, 'url': 'https://www.wsj.com/economy/central-banking/fed-forecast-inflation-tariffs-trump-economy-5a5098a1', 'urlToImage': None, 'publishedAt': '2025-03-20T03:40:00Z', 'content': None}, {'source': {'id': 'the-washington-post', 'name': 'The Washington Post'}, 'author': 'Laura Meckler', 'title': 'Trump to sign order aimed at closing Education Department - The Washington Post', 'description': 'The administration has already cut the agency’s workforce by nearly half. Totally shutting down the agency would require congressional action.', 'url': 'https://www.washingtonpost.com/education/2025/03/19/trump-executive-order-close-education-department/', 'urlToImage': 'https://www.washingtonpost.com/wp-apps/imrs.php?src=https://arc-anglerfish-washpost-prod-washpost.s3.amazonaws.com/public/RUGLRTKULZB6XPESJMXXJVLTDI.jpeg&w=1440', 'publishedAt': '2025-03-20T03:37:00Z', 'content': 'President Donald Trump is set to sign a much-anticipated executive order Thursday aimed at closing the Education Department, the White House said, though administration officials have acknowledged th… [+3847 chars]'}, {'source': {'id': None, 'name': 'Field Gulls'}, 'author': 'Mookie Alexander', 'title': 'Lions want to scrap NFL rule that allows teams like 2010 Seahawks to host playoff games - Field Gulls', 'description': 'Winning the division would no longer be enough under the Detroit Lions’ proposed rule.', 'url': 'https://www.fieldgulls.com/2025/3/19/24389449/nfl-rule-proposal-lions-reseed-nfl-playoffs-prevent-another-2010-seahawks-beastquake', 'urlToImage': 'https://cdn.vox-cdn.com/thumbor/w3KjQTR3_X7EgFeJ_6_0Ojav3t4=/0x0:3672x1923/fit-in/1200x630/cdn.vox-cdn.com/uploads/chorus_asset/file/25918630/107966622.jpg', 'publishedAt': '2025-03-20T03:05:38Z', 'content': 'Remember when the Seattle Seahawks shocked the NFL world when they upset the reigning Super Bowl champion New Orleans Saints in the 2010 season? Marshawn Lynchs Beastquake moment sealed a famous win … [+3355 chars]'}, {'source': {'id': None, 'name': 'ScienceAlert'}, 'author': 'Universe Today', 'title': \"Euclid's First Deep Fields Images Offer Glimpse Into 'Dark Universe' - ScienceAlert\", 'description': \"The ESA's Euclid Space Telescope has already wowed us with some fantastic images.\", 'url': 'https://www.sciencealert.com/euclids-first-deep-fields-images-offer-glimpse-into-dark-universe', 'urlToImage': 'https://www.sciencealert.com/images/2025/03/euclid_deepfield_header.jpg', 'publishedAt': '2025-03-20T01:05:02Z', 'content': \"The ESA's Euclid Space Telescope has already wowed us with some fantastic images. After launching in July 2023, the telescope delivered some stunning first images of the Perseus Cluster, the Horsehea… [+6988 chars]\"}, {'source': {'id': 'cnn', 'name': 'CNN'}, 'author': 'Jessica Hasbun, John Miller, Chris Boyette', 'title': 'Man who last saw missing student Sudiksha Konanki has left Dominican Republic after getting new passport - CNN', 'description': 'The man who is the last person known to have been with missing University of Pittsburgh student Sudiksha Konanki is on a plane heading back to the US after he obtained a new passport, a source in the prosecutor’s office told CNN Wednesday.', 'url': 'https://www.cnn.com/2025/03/19/us/sudiksha-konanki-joshua-riibe/index.html', 'urlToImage': 'https://media.cnn.com/api/v1/images/stellar/prod/still-21470616-21375-084000000003-still.jpg?c=16x9&q=w_800,c_fill', 'publishedAt': '2025-03-20T00:27:00Z', 'content': 'Santo Domingo, Dominican RepublicCNN\\r\\n \\xa0—\\xa0\\r\\nThe man who is the last person known to have been with missing University of Pittsburgh student Sudiksha Konanki left the Dominican Republic on Wednesday e… [+7706 chars]'}, {'source': {'id': None, 'name': 'BBC News'}, 'author': None, 'title': 'Bank of England expected to hold interest rates at 4.5% - BBC.com', 'description': 'Borrowing costs had been widely expected to be left unchanged with inflation, predicted to go up in the coming months.', 'url': 'https://www.bbc.com/news/articles/ckgz82838l8o', 'urlToImage': 'https://ichef.bbci.co.uk/news/1024/branded_news/293a/live/ee6aa0c0-0585-11f0-8b1c-4bf7984ce1c5.jpg', 'publishedAt': '2025-03-20T00:06:51Z', 'content': 'Michael RaceBusiness reporter, BBC News\\r\\nThe Bank of England has warned economic and global trade uncertainty has \"intensified\" as it held UK interest rates at 4.5%.\\r\\nUS trade tariffs and retaliation… [+4181 chars]'}]}\n"
     ]
    }
   ],
   "source": [
    "API_URL = \"https://newsapi.org/v2/top-headlines\"\n",
    "API_KEY = \"19e22dbdc1174b5ca0ce8da4696f1efd\"\n",
    "\n",
    "params ={\n",
    "    'country': 'us',\n",
    "    'apiKey': API_KEY\n",
    "}\n",
    "\n",
    "response = requests.get(API_URL, params=params)\n",
    "\n",
    "if response.status_code == 200:\n",
    "    print(response.json())\n",
    "else:\n",
    "    print(\"Error fetching articles\")\n",
    "    "
   ]
  },
  {
   "cell_type": "code",
   "execution_count": 3,
   "metadata": {},
   "outputs": [
    {
     "name": "stdout",
     "output_type": "stream",
     "text": [
      "12\n"
     ]
    }
   ],
   "source": [
    "import turtle\n",
    "import urllib.request\n",
    "import time\n",
    "import webbrowser\n",
    "import geocoder\n",
    "\n",
    "url = \"http://api.open-notify.org/astros.json\"\n",
    "response = urllib.request.urlopen(url)\n",
    "result = json.loads(response.read())\n",
    "print(result['number'])\n",
    "\n",
    "file = open('iss.txt', 'w')\n",
    "file.write(\n",
    "    \"There are currently \" + str(result['number']) + \n",
    "    ' astrounats on the ISS: \\n\\n'\n",
    ")\n",
    "\n",
    "\n",
    "people = result['people']\n",
    "for p in people:\n",
    "    file.write(p['name'] + ' - on board'  + '\\n')"
   ]
  },
  {
   "cell_type": "code",
   "execution_count": null,
   "metadata": {},
   "outputs": [],
   "source": [
    "g = geocoder(ip='me')\n",
    "g.latlang\n",
    "# file.write(\"\\nYour curren lat / long is\" + str(g.latlng))"
   ]
  },
  {
   "cell_type": "code",
   "execution_count": 2,
   "metadata": {},
   "outputs": [
    {
     "ename": "NameError",
     "evalue": "name 'result' is not defined",
     "output_type": "error",
     "traceback": [
      "\u001b[31m---------------------------------------------------------------------------\u001b[39m",
      "\u001b[31mNameError\u001b[39m                                 Traceback (most recent call last)",
      "\u001b[36mCell\u001b[39m\u001b[36m \u001b[39m\u001b[32mIn[2]\u001b[39m\u001b[32m, line 1\u001b[39m\n\u001b[32m----> \u001b[39m\u001b[32m1\u001b[39m \u001b[43mresult\u001b[49m\n",
      "\u001b[31mNameError\u001b[39m: name 'result' is not defined"
     ]
    }
   ],
   "source": [
    "result"
   ]
  },
  {
   "cell_type": "code",
   "execution_count": 13,
   "metadata": {},
   "outputs": [
    {
     "ename": "TclError",
     "evalue": "couldn't open \"images/map.gif\": no such file or directory",
     "output_type": "error",
     "traceback": [
      "\u001b[31m---------------------------------------------------------------------------\u001b[39m",
      "\u001b[31mTclError\u001b[39m                                  Traceback (most recent call last)",
      "\u001b[36mCell\u001b[39m\u001b[36m \u001b[39m\u001b[32mIn[13]\u001b[39m\u001b[32m, line 37\u001b[39m\n\u001b[32m     34\u001b[39m screen.setworldcoordinates(-\u001b[32m180\u001b[39m, -\u001b[32m90\u001b[39m, \u001b[32m180\u001b[39m, \u001b[32m90\u001b[39m)\n\u001b[32m     36\u001b[39m \u001b[38;5;66;03m# Load the world map image\u001b[39;00m\n\u001b[32m---> \u001b[39m\u001b[32m37\u001b[39m \u001b[43mscreen\u001b[49m\u001b[43m.\u001b[49m\u001b[43mbgpic\u001b[49m\u001b[43m(\u001b[49m\u001b[33;43m\"\u001b[39;49m\u001b[33;43mimages/map.gif\u001b[39;49m\u001b[33;43m\"\u001b[39;49m\u001b[43m)\u001b[49m\n\u001b[32m     38\u001b[39m screen.register_shape(\u001b[33m\"\u001b[39m\u001b[33mimages/iss.gif\u001b[39m\u001b[33m\"\u001b[39m)\n\u001b[32m     39\u001b[39m iss = turtle.Turtle()\n",
      "\u001b[36mFile \u001b[39m\u001b[32mC:\\Python311\\Lib\\turtle.py:1482\u001b[39m, in \u001b[36mTurtleScreen.bgpic\u001b[39m\u001b[34m(self, picname)\u001b[39m\n\u001b[32m   1480\u001b[39m     \u001b[38;5;28;01mreturn\u001b[39;00m \u001b[38;5;28mself\u001b[39m._bgpicname\n\u001b[32m   1481\u001b[39m \u001b[38;5;28;01mif\u001b[39;00m picname \u001b[38;5;129;01mnot\u001b[39;00m \u001b[38;5;129;01min\u001b[39;00m \u001b[38;5;28mself\u001b[39m._bgpics:\n\u001b[32m-> \u001b[39m\u001b[32m1482\u001b[39m     \u001b[38;5;28mself\u001b[39m._bgpics[picname] = \u001b[38;5;28;43mself\u001b[39;49m\u001b[43m.\u001b[49m\u001b[43m_image\u001b[49m\u001b[43m(\u001b[49m\u001b[43mpicname\u001b[49m\u001b[43m)\u001b[49m\n\u001b[32m   1483\u001b[39m \u001b[38;5;28mself\u001b[39m._setbgpic(\u001b[38;5;28mself\u001b[39m._bgpic, \u001b[38;5;28mself\u001b[39m._bgpics[picname])\n\u001b[32m   1484\u001b[39m \u001b[38;5;28mself\u001b[39m._bgpicname = picname\n",
      "\u001b[36mFile \u001b[39m\u001b[32mC:\\Python311\\Lib\\turtle.py:479\u001b[39m, in \u001b[36mTurtleScreenBase._image\u001b[39m\u001b[34m(self, filename)\u001b[39m\n\u001b[32m    475\u001b[39m \u001b[38;5;28;01mdef\u001b[39;00m\u001b[38;5;250m \u001b[39m\u001b[34m_image\u001b[39m(\u001b[38;5;28mself\u001b[39m, filename):\n\u001b[32m    476\u001b[39m \u001b[38;5;250m    \u001b[39m\u001b[33;03m\"\"\"return an image object containing the\u001b[39;00m\n\u001b[32m    477\u001b[39m \u001b[33;03m    imagedata from a gif-file named filename.\u001b[39;00m\n\u001b[32m    478\u001b[39m \u001b[33;03m    \"\"\"\u001b[39;00m\n\u001b[32m--> \u001b[39m\u001b[32m479\u001b[39m     \u001b[38;5;28;01mreturn\u001b[39;00m \u001b[43mTK\u001b[49m\u001b[43m.\u001b[49m\u001b[43mPhotoImage\u001b[49m\u001b[43m(\u001b[49m\u001b[43mfile\u001b[49m\u001b[43m=\u001b[49m\u001b[43mfilename\u001b[49m\u001b[43m,\u001b[49m\u001b[43m \u001b[49m\u001b[43mmaster\u001b[49m\u001b[43m=\u001b[49m\u001b[38;5;28;43mself\u001b[39;49m\u001b[43m.\u001b[49m\u001b[43mcv\u001b[49m\u001b[43m)\u001b[49m\n",
      "\u001b[36mFile \u001b[39m\u001b[32mC:\\Python311\\Lib\\tkinter\\__init__.py:4129\u001b[39m, in \u001b[36mPhotoImage.__init__\u001b[39m\u001b[34m(self, name, cnf, master, **kw)\u001b[39m\n\u001b[32m   4124\u001b[39m \u001b[38;5;28;01mdef\u001b[39;00m\u001b[38;5;250m \u001b[39m\u001b[34m__init__\u001b[39m(\u001b[38;5;28mself\u001b[39m, name=\u001b[38;5;28;01mNone\u001b[39;00m, cnf={}, master=\u001b[38;5;28;01mNone\u001b[39;00m, **kw):\n\u001b[32m   4125\u001b[39m \u001b[38;5;250m    \u001b[39m\u001b[33;03m\"\"\"Create an image with NAME.\u001b[39;00m\n\u001b[32m   4126\u001b[39m \n\u001b[32m   4127\u001b[39m \u001b[33;03m    Valid resource names: data, format, file, gamma, height, palette,\u001b[39;00m\n\u001b[32m   4128\u001b[39m \u001b[33;03m    width.\"\"\"\u001b[39;00m\n\u001b[32m-> \u001b[39m\u001b[32m4129\u001b[39m     \u001b[43mImage\u001b[49m\u001b[43m.\u001b[49m\u001b[34;43m__init__\u001b[39;49m\u001b[43m(\u001b[49m\u001b[38;5;28;43mself\u001b[39;49m\u001b[43m,\u001b[49m\u001b[43m \u001b[49m\u001b[33;43m'\u001b[39;49m\u001b[33;43mphoto\u001b[39;49m\u001b[33;43m'\u001b[39;49m\u001b[43m,\u001b[49m\u001b[43m \u001b[49m\u001b[43mname\u001b[49m\u001b[43m,\u001b[49m\u001b[43m \u001b[49m\u001b[43mcnf\u001b[49m\u001b[43m,\u001b[49m\u001b[43m \u001b[49m\u001b[43mmaster\u001b[49m\u001b[43m,\u001b[49m\u001b[43m \u001b[49m\u001b[43m*\u001b[49m\u001b[43m*\u001b[49m\u001b[43mkw\u001b[49m\u001b[43m)\u001b[49m\n",
      "\u001b[36mFile \u001b[39m\u001b[32mC:\\Python311\\Lib\\tkinter\\__init__.py:4074\u001b[39m, in \u001b[36mImage.__init__\u001b[39m\u001b[34m(self, imgtype, name, cnf, master, **kw)\u001b[39m\n\u001b[32m   4072\u001b[39m         v = \u001b[38;5;28mself\u001b[39m._register(v)\n\u001b[32m   4073\u001b[39m     options = options + (\u001b[33m'\u001b[39m\u001b[33m-\u001b[39m\u001b[33m'\u001b[39m+k, v)\n\u001b[32m-> \u001b[39m\u001b[32m4074\u001b[39m \u001b[38;5;28;43mself\u001b[39;49m\u001b[43m.\u001b[49m\u001b[43mtk\u001b[49m\u001b[43m.\u001b[49m\u001b[43mcall\u001b[49m\u001b[43m(\u001b[49m\u001b[43m(\u001b[49m\u001b[33;43m'\u001b[39;49m\u001b[33;43mimage\u001b[39;49m\u001b[33;43m'\u001b[39;49m\u001b[43m,\u001b[49m\u001b[43m \u001b[49m\u001b[33;43m'\u001b[39;49m\u001b[33;43mcreate\u001b[39;49m\u001b[33;43m'\u001b[39;49m\u001b[43m,\u001b[49m\u001b[43m \u001b[49m\u001b[43mimgtype\u001b[49m\u001b[43m,\u001b[49m\u001b[43m \u001b[49m\u001b[43mname\u001b[49m\u001b[43m,\u001b[49m\u001b[43m)\u001b[49m\u001b[43m \u001b[49m\u001b[43m+\u001b[49m\u001b[43m \u001b[49m\u001b[43moptions\u001b[49m\u001b[43m)\u001b[49m\n\u001b[32m   4075\u001b[39m \u001b[38;5;28mself\u001b[39m.name = name\n",
      "\u001b[31mTclError\u001b[39m: couldn't open \"images/map.gif\": no such file or directory"
     ]
    }
   ],
   "source": [
    "import json\n",
    "import turtle\n",
    "import urllib.request\n",
    "import time\n",
    "import webbrowser\n",
    "import geocoder\n",
    "\n",
    "# Get the current ISS data\n",
    "url = \"http://api.open-notify.org/astros.json\"\n",
    "response = urllib.request.urlopen(url)\n",
    "result = json.loads(response.read())\n",
    "\n",
    "# Save data to a text file\n",
    "file = open(\"iss.txt\", \"w\")\n",
    "file.write(\"There are currently \" +\n",
    "            str(result[\"number\"]) + \" astronauts on the ISS: \\n\\n\")\n",
    "people = result[\"people\"]\n",
    "\n",
    "# Save the crew names to the file\n",
    "for p in people:\n",
    "    file.write(p['name'] + \" - on board\" + \"\\n\")\n",
    "\n",
    "# Get current latitude and longitude\n",
    "g = geocoder.ip('me')\n",
    "file.write(\"\\nYour current lat / long is: \" + str(g.latlng))\n",
    "file.close()\n",
    "\n",
    "# Open the text file in the browser\n",
    "webbrowser.open(\"iss.txt\")\n",
    "\n",
    "# Setup the world map in turtle module\n",
    "screen = turtle.Screen()\n",
    "screen.setup(1280, 720)\n",
    "screen.setworldcoordinates(-180, -90, 180, 90)\n",
    "\n",
    "# Load the world map image\n",
    "screen.bgpic(\"images/map.gif\")\n",
    "screen.register_shape(\"images/iss.gif\")\n",
    "iss = turtle.Turtle()\n",
    "iss.shape(\"images/iss.gif\")\n",
    "iss.setheading(45)\n",
    "iss.penup()\n",
    "\n",
    "while True:\n",
    "    # Get the current ISS position in real-time\n",
    "    url = \"http://api.open-notify.org/iss-now.json\"\n",
    "    response = urllib.request.urlopen(url)\n",
    "    result = json.loads(response.read())\n",
    "\n",
    "    # Extract the ISS location\n",
    "    location = result[\"iss_position\"]\n",
    "    lat = location['latitude']\n",
    "    lon = location['longitude']\n",
    "\n",
    "    # Output lon and lat to the terminal\n",
    "    lat = float(lat)\n",
    "    lon = float(lon)\n",
    "    print(\"\\nLatitude: \" + str(lat))\n",
    "    print(\"\\nLongitude: \" + str(lon))\n",
    "\n",
    "    # Update the ISS location on the map\n",
    "    iss.goto(lon, lat)\n",
    "\n",
    "    # Refresh every 5 seconds\n",
    "    time.sleep(5)\n"
   ]
  }
 ],
 "metadata": {
  "kernelspec": {
   "display_name": "env",
   "language": "python",
   "name": "python3"
  },
  "language_info": {
   "codemirror_mode": {
    "name": "ipython",
    "version": 3
   },
   "file_extension": ".py",
   "mimetype": "text/x-python",
   "name": "python",
   "nbconvert_exporter": "python",
   "pygments_lexer": "ipython3",
   "version": "3.11.4"
  }
 },
 "nbformat": 4,
 "nbformat_minor": 2
}
